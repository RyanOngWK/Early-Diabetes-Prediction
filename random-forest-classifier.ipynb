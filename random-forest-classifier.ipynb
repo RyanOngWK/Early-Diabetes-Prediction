{
 "cells": [
  {
   "cell_type": "markdown",
   "id": "074a0ef5-51a8-4015-acc3-7f9a31183335",
   "metadata": {},
   "source": [
    "# Random Forest Classifier "
   ]
  },
  {
   "cell_type": "markdown",
   "id": "dc488bcb",
   "metadata": {},
   "source": [
    "This notebook delves into the Random Forest Classifier, a robust ensemble learning method, to predict diabetes diagnoses. We aim to utilize the collective decision-making of multiple decision trees to enhance predictive accuracy and assess feature importance in diabetes outcomes."
   ]
  },
  {
   "cell_type": "markdown",
   "id": "0fc5e11f",
   "metadata": {},
   "source": [
    "## Importing necessary modules"
   ]
  },
  {
   "cell_type": "code",
   "execution_count": 23,
   "id": "3e0adaef-b6d9-4a7c-9f5b-faa29612a6a4",
   "metadata": {},
   "outputs": [],
   "source": [
    "# Import necessary libraries and packages\n",
    "import pandas as pd\n",
    "import numpy as np\n",
    "import seaborn as sb\n",
    "import matplotlib.pyplot as plt\n",
    "from sklearn.model_selection import train_test_split\n",
    "from sklearn.ensemble import RandomForestClassifier\n",
    "from sklearn.metrics import accuracy_score\n",
    "from sklearn.metrics import confusion_matrix\n",
    "from sklearn.metrics import roc_auc_score, precision_score, recall_score,f1_score\n",
    "from sklearn.metrics import classification_report\n",
    "from sklearn import metrics\n",
    "from sklearn.model_selection import cross_val_score\n",
    "from sklearn import model_selection"
   ]
  },
  {
   "cell_type": "code",
   "execution_count": 24,
   "id": "435c9abc-b10f-40fe-b139-337fe5a272c2",
   "metadata": {
    "scrolled": true
   },
   "outputs": [
    {
     "data": {
      "text/html": [
       "<div>\n",
       "<style scoped>\n",
       "    .dataframe tbody tr th:only-of-type {\n",
       "        vertical-align: middle;\n",
       "    }\n",
       "\n",
       "    .dataframe tbody tr th {\n",
       "        vertical-align: top;\n",
       "    }\n",
       "\n",
       "    .dataframe thead th {\n",
       "        text-align: right;\n",
       "    }\n",
       "</style>\n",
       "<table border=\"1\" class=\"dataframe\">\n",
       "  <thead>\n",
       "    <tr style=\"text-align: right;\">\n",
       "      <th></th>\n",
       "      <th>Age</th>\n",
       "      <th>Gender</th>\n",
       "      <th>Polyuria</th>\n",
       "      <th>Polydipsia</th>\n",
       "      <th>sudden weight loss</th>\n",
       "      <th>weakness</th>\n",
       "      <th>Polyphagia</th>\n",
       "      <th>Genital thrush</th>\n",
       "      <th>visual blurring</th>\n",
       "      <th>Itching</th>\n",
       "      <th>Irritability</th>\n",
       "      <th>delayed healing</th>\n",
       "      <th>partial paresis</th>\n",
       "      <th>muscle stiffness</th>\n",
       "      <th>Alopecia</th>\n",
       "      <th>Obesity</th>\n",
       "      <th>class</th>\n",
       "    </tr>\n",
       "  </thead>\n",
       "  <tbody>\n",
       "    <tr>\n",
       "      <th>0</th>\n",
       "      <td>40</td>\n",
       "      <td>Male</td>\n",
       "      <td>No</td>\n",
       "      <td>Yes</td>\n",
       "      <td>No</td>\n",
       "      <td>Yes</td>\n",
       "      <td>No</td>\n",
       "      <td>No</td>\n",
       "      <td>No</td>\n",
       "      <td>Yes</td>\n",
       "      <td>No</td>\n",
       "      <td>Yes</td>\n",
       "      <td>No</td>\n",
       "      <td>Yes</td>\n",
       "      <td>Yes</td>\n",
       "      <td>Yes</td>\n",
       "      <td>Positive</td>\n",
       "    </tr>\n",
       "    <tr>\n",
       "      <th>1</th>\n",
       "      <td>58</td>\n",
       "      <td>Male</td>\n",
       "      <td>No</td>\n",
       "      <td>No</td>\n",
       "      <td>No</td>\n",
       "      <td>Yes</td>\n",
       "      <td>No</td>\n",
       "      <td>No</td>\n",
       "      <td>Yes</td>\n",
       "      <td>No</td>\n",
       "      <td>No</td>\n",
       "      <td>No</td>\n",
       "      <td>Yes</td>\n",
       "      <td>No</td>\n",
       "      <td>Yes</td>\n",
       "      <td>No</td>\n",
       "      <td>Positive</td>\n",
       "    </tr>\n",
       "    <tr>\n",
       "      <th>2</th>\n",
       "      <td>41</td>\n",
       "      <td>Male</td>\n",
       "      <td>Yes</td>\n",
       "      <td>No</td>\n",
       "      <td>No</td>\n",
       "      <td>Yes</td>\n",
       "      <td>Yes</td>\n",
       "      <td>No</td>\n",
       "      <td>No</td>\n",
       "      <td>Yes</td>\n",
       "      <td>No</td>\n",
       "      <td>Yes</td>\n",
       "      <td>No</td>\n",
       "      <td>Yes</td>\n",
       "      <td>Yes</td>\n",
       "      <td>No</td>\n",
       "      <td>Positive</td>\n",
       "    </tr>\n",
       "    <tr>\n",
       "      <th>3</th>\n",
       "      <td>45</td>\n",
       "      <td>Male</td>\n",
       "      <td>No</td>\n",
       "      <td>No</td>\n",
       "      <td>Yes</td>\n",
       "      <td>Yes</td>\n",
       "      <td>Yes</td>\n",
       "      <td>Yes</td>\n",
       "      <td>No</td>\n",
       "      <td>Yes</td>\n",
       "      <td>No</td>\n",
       "      <td>Yes</td>\n",
       "      <td>No</td>\n",
       "      <td>No</td>\n",
       "      <td>No</td>\n",
       "      <td>No</td>\n",
       "      <td>Positive</td>\n",
       "    </tr>\n",
       "    <tr>\n",
       "      <th>4</th>\n",
       "      <td>60</td>\n",
       "      <td>Male</td>\n",
       "      <td>Yes</td>\n",
       "      <td>Yes</td>\n",
       "      <td>Yes</td>\n",
       "      <td>Yes</td>\n",
       "      <td>Yes</td>\n",
       "      <td>No</td>\n",
       "      <td>Yes</td>\n",
       "      <td>Yes</td>\n",
       "      <td>Yes</td>\n",
       "      <td>Yes</td>\n",
       "      <td>Yes</td>\n",
       "      <td>Yes</td>\n",
       "      <td>Yes</td>\n",
       "      <td>Yes</td>\n",
       "      <td>Positive</td>\n",
       "    </tr>\n",
       "  </tbody>\n",
       "</table>\n",
       "</div>"
      ],
      "text/plain": [
       "   Age Gender Polyuria Polydipsia sudden weight loss weakness Polyphagia  \\\n",
       "0   40   Male       No        Yes                 No      Yes         No   \n",
       "1   58   Male       No         No                 No      Yes         No   \n",
       "2   41   Male      Yes         No                 No      Yes        Yes   \n",
       "3   45   Male       No         No                Yes      Yes        Yes   \n",
       "4   60   Male      Yes        Yes                Yes      Yes        Yes   \n",
       "\n",
       "  Genital thrush visual blurring Itching Irritability delayed healing  \\\n",
       "0             No              No     Yes           No             Yes   \n",
       "1             No             Yes      No           No              No   \n",
       "2             No              No     Yes           No             Yes   \n",
       "3            Yes              No     Yes           No             Yes   \n",
       "4             No             Yes     Yes          Yes             Yes   \n",
       "\n",
       "  partial paresis muscle stiffness Alopecia Obesity     class  \n",
       "0              No              Yes      Yes     Yes  Positive  \n",
       "1             Yes               No      Yes      No  Positive  \n",
       "2              No              Yes      Yes      No  Positive  \n",
       "3              No               No       No      No  Positive  \n",
       "4             Yes              Yes      Yes     Yes  Positive  "
      ]
     },
     "execution_count": 24,
     "metadata": {},
     "output_type": "execute_result"
    }
   ],
   "source": [
    "# To load the data into a dataframe\n",
    "diabetes_data = pd.read_csv('cleaned_diabetes_data.csv')\n",
    "diabetes_data.head()"
   ]
  },
  {
   "cell_type": "markdown",
   "id": "f83cf4d8-398c-4723-a6a3-51c806964645",
   "metadata": {},
   "source": [
    "## Encoding features"
   ]
  },
  {
   "cell_type": "code",
   "execution_count": 25,
   "id": "83d149f6-4a76-4fd1-8143-2f2cc4179a64",
   "metadata": {},
   "outputs": [
    {
     "name": "stdout",
     "output_type": "stream",
     "text": [
      "Index(['Gender', 'Polyuria', 'Polydipsia', 'sudden weight loss', 'weakness',\n",
      "       'Polyphagia', 'Genital thrush', 'visual blurring', 'Itching',\n",
      "       'Irritability', 'delayed healing', 'partial paresis',\n",
      "       'muscle stiffness', 'Alopecia', 'Obesity'],\n",
      "      dtype='object')\n",
      "     Age  Gender  Polyuria  Polydipsia  sudden weight loss  weakness  \\\n",
      "0     40       1         0           1                   0         1   \n",
      "1     58       1         0           0                   0         1   \n",
      "2     41       1         1           0                   0         1   \n",
      "3     45       1         0           0                   1         1   \n",
      "4     60       1         1           1                   1         1   \n",
      "..   ...     ...       ...         ...                 ...       ...   \n",
      "515   39       0         1           1                   1         0   \n",
      "516   48       0         1           1                   1         1   \n",
      "517   58       0         1           1                   1         1   \n",
      "518   32       0         0           0                   0         1   \n",
      "519   42       1         0           0                   0         0   \n",
      "\n",
      "     Polyphagia  Genital thrush  visual blurring  Itching  Irritability  \\\n",
      "0             0               0                0        1             0   \n",
      "1             0               0                1        0             0   \n",
      "2             1               0                0        1             0   \n",
      "3             1               1                0        1             0   \n",
      "4             1               0                1        1             1   \n",
      "..          ...             ...              ...      ...           ...   \n",
      "515           1               0                0        1             0   \n",
      "516           1               0                0        1             1   \n",
      "517           1               0                1        0             0   \n",
      "518           0               0                1        1             0   \n",
      "519           0               0                0        0             0   \n",
      "\n",
      "     delayed healing  partial paresis  muscle stiffness  Alopecia  Obesity  \n",
      "0                  1                0                 1         1        1  \n",
      "1                  0                1                 0         1        0  \n",
      "2                  1                0                 1         1        0  \n",
      "3                  1                0                 0         0        0  \n",
      "4                  1                1                 1         1        1  \n",
      "..               ...              ...               ...       ...      ...  \n",
      "515                1                1                 0         0        0  \n",
      "516                1                1                 0         0        0  \n",
      "517                0                1                 1         0        1  \n",
      "518                1                0                 0         1        0  \n",
      "519                0                0                 0         0        0  \n",
      "\n",
      "[520 rows x 16 columns]\n"
     ]
    },
    {
     "name": "stderr",
     "output_type": "stream",
     "text": [
      "C:\\Users\\ryano\\AppData\\Local\\Temp\\ipykernel_22288\\665228276.py:1: FutureWarning: Downcasting behavior in `replace` is deprecated and will be removed in a future version. To retain the old behavior, explicitly call `result.infer_objects(copy=False)`. To opt-in to the future behavior, set `pd.set_option('future.no_silent_downcasting', True)`\n",
      "  diabetes_data['class'] = diabetes_data['class'].replace({'Positive': 1, 'Negative': 0})\n"
     ]
    }
   ],
   "source": [
    "diabetes_data['class'] = diabetes_data['class'].replace({'Positive': 1, 'Negative': 0})\n",
    "X = diabetes_data.drop(['class'],axis =1)\n",
    "y = diabetes_data['class']\n",
    "\n",
    "objectList = X.select_dtypes(include = \"object\").columns\n",
    "print(objectList)\n",
    "from sklearn.preprocessing import LabelEncoder\n",
    "le = LabelEncoder()\n",
    "\n",
    "for feature in objectList:\n",
    "    X[feature] = le.fit_transform(X[feature].astype(str))\n",
    "\n",
    "print(X)"
   ]
  },
  {
   "cell_type": "code",
   "execution_count": 26,
   "id": "fa8516d9-572c-4a0b-b05c-3ced9b635918",
   "metadata": {},
   "outputs": [],
   "source": [
    "# Splitting the data into train and test sets\n",
    "X_train_fresh, X_test_fresh, y_train_fresh, y_test_fresh = train_test_split(X, y, test_size=0.3, random_state=42)\n"
   ]
  },
  {
   "cell_type": "code",
   "execution_count": 27,
   "id": "09d4474d-cfb8-4378-bee5-9c5e977e1e87",
   "metadata": {},
   "outputs": [
    {
     "data": {
      "text/plain": [
       "0.967042042042042"
      ]
     },
     "execution_count": 27,
     "metadata": {},
     "output_type": "execute_result"
    }
   ],
   "source": [
    "# Training a new Random Forest Classifier\n",
    "rf_classifier_fresh = RandomForestClassifier(n_estimators=100, random_state=42)\n",
    "rf_classifier_fresh.fit(X_train_fresh, y_train_fresh)\n",
    "\n",
    "# Predicting the test set results and evaluating the model\n",
    "y_pred_fresh = rf_classifier_fresh.predict(X_test_fresh)\n",
    "kfold = model_selection.KFold(n_splits=10)\n",
    "scoring = 'accuracy'\n",
    "acc_rfc = cross_val_score(estimator = rf_classifier_fresh, X = X_train_fresh, y = y_train_fresh, cv = kfold,scoring=scoring)\n",
    "acc_rfc.mean()"
   ]
  },
  {
   "cell_type": "markdown",
   "id": "6eaea3f5-356c-4bb4-9495-6088588c0e5b",
   "metadata": {},
   "source": [
    "## Evaluation metrics"
   ]
  },
  {
   "cell_type": "code",
   "execution_count": 31,
   "id": "e500c4d2-659d-420a-8de4-5c769649c12f",
   "metadata": {},
   "outputs": [
    {
     "data": {
      "text/html": [
       "<div>\n",
       "<style scoped>\n",
       "    .dataframe tbody tr th:only-of-type {\n",
       "        vertical-align: middle;\n",
       "    }\n",
       "\n",
       "    .dataframe tbody tr th {\n",
       "        vertical-align: top;\n",
       "    }\n",
       "\n",
       "    .dataframe thead th {\n",
       "        text-align: right;\n",
       "    }\n",
       "</style>\n",
       "<table border=\"1\" class=\"dataframe\">\n",
       "  <thead>\n",
       "    <tr style=\"text-align: right;\">\n",
       "      <th></th>\n",
       "      <th>Model</th>\n",
       "      <th>Accuracy</th>\n",
       "      <th>Cross Val Accuracy</th>\n",
       "      <th>Precision</th>\n",
       "      <th>Recall</th>\n",
       "      <th>F1 Score</th>\n",
       "      <th>ROC</th>\n",
       "    </tr>\n",
       "  </thead>\n",
       "  <tbody>\n",
       "    <tr>\n",
       "      <th>0</th>\n",
       "      <td>Random Forest Classifier</td>\n",
       "      <td>0.99359</td>\n",
       "      <td>0.967042</td>\n",
       "      <td>1.0</td>\n",
       "      <td>0.990196</td>\n",
       "      <td>0.995074</td>\n",
       "      <td>0.995098</td>\n",
       "    </tr>\n",
       "  </tbody>\n",
       "</table>\n",
       "</div>"
      ],
      "text/plain": [
       "                      Model  Accuracy  Cross Val Accuracy  Precision  \\\n",
       "0  Random Forest Classifier   0.99359            0.967042        1.0   \n",
       "\n",
       "     Recall  F1 Score       ROC  \n",
       "0  0.990196  0.995074  0.995098  "
      ]
     },
     "execution_count": 31,
     "metadata": {},
     "output_type": "execute_result"
    }
   ],
   "source": [
    "# Calculate various performance metrics for the classifier\n",
    "acc = accuracy_score(y_test_fresh, y_pred_fresh)\n",
    "roc = roc_auc_score(y_test_fresh, y_pred_fresh)\n",
    "prec = precision_score(y_test_fresh, y_pred_fresh)\n",
    "rec = recall_score(y_test_fresh, y_pred_fresh)\n",
    "f1 = f1_score(y_test_fresh, y_pred_fresh)\n",
    "cr = classification_report(y_test_fresh, y_pred_fresh)\n",
    "# Create a DataFrame to hold the calculated metrics\n",
    "results_rfc = pd.DataFrame([['Random Forest Classifier',acc, acc_rfc.mean(), prec, rec, f1,roc]], columns = ['Model', 'Accuracy','Cross Val Accuracy', 'Precision', 'Recall', 'F1 Score','ROC'])\n",
    "results_rfc\n"
   ]
  },
  {
   "cell_type": "code",
   "execution_count": 30,
   "id": "103f573c-45b4-410b-8b64-6e48d93c716b",
   "metadata": {},
   "outputs": [
    {
     "data": {
      "image/png": "[encoded data removed]",
      "text/plain": [
       "<Figure size 640x480 with 2 Axes>"
      ]
     },
     "metadata": {},
     "output_type": "display_data"
    }
   ],
   "source": [
    "# Visualisation of the confusion matrix \n",
    "from sklearn import metrics\n",
    "confusion_matrix = metrics.confusion_matrix(y_test_fresh, y_pred_fresh)\n",
    "\n",
    "cm_display = metrics.ConfusionMatrixDisplay(confusion_matrix = confusion_matrix, display_labels = ['True', 'False'])\n",
    "\n",
    "cm_display.plot()\n",
    "plt.show()"
   ]
  },
  {
   "cell_type": "markdown",
   "id": "66240e45",
   "metadata": {},
   "source": [
    "## Conclusion\n",
    "\n",
    "Our Random Forest Classifier has proven to be a powerful tool in the predictive analysis of diabetes, achieving an accuracy of 99.4% on the test data. This signifies not only the model's predictive prowess but also its consistency, as evidenced by a cross-validation accuracy of 96.7%.\n",
    "\n",
    "Examining the precision and recall, at 100% and 99.0% respectively, our model ensures reliable predictions for both diabetic and non-diabetic classifications. The F1 Score and ROC Score, at 99.5% and 99.5%, further reflect the model's balanced performance in correctly identifying cases across the spectrum.\n",
    "\n",
    "In summary, the Random Forest Classifier emerges as a potent analytical tool, offering nuanced insights for healthcare professionals in the early and accurate diagnosis of diabetes."
   ]
  }
 ],
 "metadata": {
  "kernelspec": {
   "display_name": "Python 3 (ipykernel)",
   "language": "python",
   "name": "python3"
  },
  "language_info": {
   "codemirror_mode": {
    "name": "ipython",
    "version": 3
   },
   "file_extension": ".py",
   "mimetype": "text/x-python",
   "name": "python",
   "nbconvert_exporter": "python",
   "pygments_lexer": "ipython3",
   "version": "3.9.19"
  }
 },
 "nbformat": 4,
 "nbformat_minor": 5
}
